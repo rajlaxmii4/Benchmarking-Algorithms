{
 "cells": [
  {
   "cell_type": "code",
   "execution_count": null,
   "id": "0d209d04-55a6-4509-9b13-df605999f2cd",
   "metadata": {},
   "outputs": [],
   "source": [
    "import time\n",
    "\n",
    "# get the start time\n",
    "st = time.time()\n",
    "\n",
    "# main program\n",
    "from strawberryfields.apps import data, plot, sample, clique\n",
    "import numpy as np\n",
    "import networkx as nx\n",
    "import plotly\n",
    "\n",
    "TA = data.TaceAs()\n",
    "A = TA.adj\n",
    "TA_graph = nx.Graph(A)\n",
    "postselected = sample.postselect(TA, 8, 8)\n",
    "samples = sample.to_subgraphs(postselected, TA_graph)\n",
    "GBS_dens = []\n",
    "u_dens = []\n",
    "\n",
    "for s in samples:\n",
    "    uniform = list(np.random.choice(24, 8, replace=False))  # generates uniform sample\n",
    "    GBS_dens.append(nx.density(TA_graph.subgraph(s)))\n",
    "    u_dens.append(nx.density(TA_graph.subgraph(uniform)))\n",
    "shrunk = [clique.shrink(s, TA_graph) for s in samples]\n",
    "clique_sizes = [len(s) for s in shrunk]\n",
    "searched = [clique.search(s, TA_graph, 10) for s in shrunk]\n",
    "clique_sizes = [len(s) for s in searched]\n",
    "largest_clique = searched[np.argmax(clique_sizes)]\n",
    "\n",
    "time.sleep(5)\n",
    "\n",
    "maximum_clique = [4,2,17,23,1,8,10,9]\n",
    "plot.graph(TA_graph, maximum_clique)\n",
    "print(\"GBS mean density = {:.4f}\".format(np.mean(GBS_dens)))\n",
    "print(\"Uniform mean density = {:.4f}\".format(np.mean(u_dens)))\n",
    "print(clique.is_clique(TA_graph.subgraph(shrunk[0])))\n",
    "print(\"First ten clique sizes = \", clique_sizes[:10])\n",
    "print(\"Average clique size = {:.3f}\".format(np.mean(clique_sizes)))\n",
    "print(\"Maximum clique size = \", np.max(clique_sizes))\n",
    "print(\"Minimum clique size = \", np.min(clique_sizes))\n",
    "print(\"First two cliques = \", searched[:2])\n",
    "print(\"Average clique size = {:.3f}\".format(np.mean(clique_sizes)))\n",
    "plot.graph(TA_graph, largest_clique)\n",
    "plot.graph(TA_graph, searched[0])\n",
    "\n",
    "# get the end time\n",
    "et = time.time()\n",
    "\n",
    "# get the execution time\n",
    "elapsed_time = et - st\n",
    "print('Execution time:', elapsed_time, 'seconds')"
   ]
  },
  {
   "cell_type": "code",
   "execution_count": null,
   "id": "c73b7c31-341b-46a0-b037-6b66d2d383dc",
   "metadata": {},
   "outputs": [],
   "source": [
    "plot.graph(TA_graph)"
   ]
  },
  {
   "cell_type": "code",
   "execution_count": null,
   "id": "b89972ef-2393-4f83-9815-494aa8942c9a",
   "metadata": {},
   "outputs": [],
   "source": [
    "maximum_clique = [4,2,17,23,1,8,10,9]\n",
    "plot.graph(TA_graph, maximum_clique)"
   ]
  },
  {
   "cell_type": "code",
   "execution_count": null,
   "id": "04d40326-aac7-4cdf-8761-180f55cb2556",
   "metadata": {},
   "outputs": [],
   "source": [
    "plot.graph(TA_graph, largest_clique)\n"
   ]
  },
  {
   "cell_type": "code",
   "execution_count": null,
   "id": "273df100-7728-4de7-a767-90a25ebeb9ce",
   "metadata": {},
   "outputs": [],
   "source": [
    "plot.graph(TA_graph, searched[0])  #first clique"
   ]
  },
  {
   "cell_type": "code",
   "execution_count": null,
   "id": "a4fa32e1-decd-4a18-a5ec-a9a39cc18b79",
   "metadata": {},
   "outputs": [],
   "source": []
  },
  {
   "cell_type": "code",
   "execution_count": null,
   "id": "95552eb6-de1c-432e-9a52-8b69bab13cdd",
   "metadata": {},
   "outputs": [],
   "source": []
  },
  {
   "cell_type": "code",
   "execution_count": null,
   "id": "b1b99f43-3eed-4025-a402-2c42d6624aa6",
   "metadata": {},
   "outputs": [],
   "source": []
  }
 ],
 "metadata": {
  "kernelspec": {
   "display_name": "Python 3 (ipykernel)",
   "language": "python",
   "name": "python3"
  },
  "language_info": {
   "codemirror_mode": {
    "name": "ipython",
    "version": 3
   },
   "file_extension": ".py",
   "mimetype": "text/x-python",
   "name": "python",
   "nbconvert_exporter": "python",
   "pygments_lexer": "ipython3",
   "version": "3.9.12"
  }
 },
 "nbformat": 4,
 "nbformat_minor": 5
}
