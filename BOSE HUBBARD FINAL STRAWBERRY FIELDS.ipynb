{
 "cells": [
  {
   "cell_type": "code",
   "execution_count": 1,
   "id": "95296bca-32ba-481a-84c4-3e6461d8e3a8",
   "metadata": {},
   "outputs": [],
   "source": [
    "import time\n",
    "\n",
    "# get the start time\n",
    "st = time.time()"
   ]
  },
  {
   "cell_type": "code",
   "execution_count": 2,
   "id": "ef1e1f25-8efe-433d-bec9-7a0b63ae4599",
   "metadata": {},
   "outputs": [],
   "source": [
    "import numpy as np\n",
    "import math\n",
    "\n",
    "# set the random seed\n",
    "np.random.seed(42)\n",
    "\n",
    "import strawberryfields as sf\n",
    "from strawberryfields.ops import *\n",
    "\n",
    "ham_simulation = sf.Program(2)\n",
    "\n",
    "# set the Hamiltonian parameters\n",
    "J = 2           # hopping transition\n",
    "U = 4        # on-site interaction\n",
    "k = 100         # Lie product decomposition terms\n",
    "t = 0.5       # timestep\n",
    "theta = -J*t/k\n",
    "r = -U*t/(2*k)\n",
    "\n",
    "with ham_simulation.context as q:\n",
    "    # prepare the initial state\n",
    "    Fock(2) | q[0]\n",
    "\n",
    "    # Two node tight-binding\n",
    "    # Hamiltonian simulation\n",
    "\n",
    "    for i in range(k):\n",
    "        BSgate(theta, np.pi/4) | (q[0], q[1])\n",
    "        Kgate(r)  | q[0]\n",
    "        Rgate(-r) | q[1]\n",
    "        Kgate(r)  | q[0]\n",
    "        Rgate(-r) | q[1]"
   ]
  },
  {
   "cell_type": "code",
   "execution_count": null,
   "id": "0e5ceb7a-5550-45e5-b2c2-2bdc9bfb429d",
   "metadata": {},
   "outputs": [],
   "source": []
  },
  {
   "cell_type": "code",
   "execution_count": 3,
   "id": "02a880db-4a47-4295-983f-f6ddbac2d329",
   "metadata": {},
   "outputs": [],
   "source": [
    "eng = sf.Engine(backend=\"fock\", backend_options={\"cutoff_dim\": 5})\n"
   ]
  },
  {
   "cell_type": "code",
   "execution_count": 4,
   "id": "013ac962-c15b-4fca-a660-07180de1a0d9",
   "metadata": {},
   "outputs": [],
   "source": [
    "results = eng.run(ham_simulation)\n"
   ]
  },
  {
   "cell_type": "code",
   "execution_count": 5,
   "id": "dca26565-46a7-4b70-b322-94b79fdde078",
   "metadata": {},
   "outputs": [],
   "source": [
    "# wait for 5 seconds\n",
    "time.sleep(5)"
   ]
  },
  {
   "cell_type": "code",
   "execution_count": 6,
   "id": "a54f358b-26bd-414e-8023-b7c36a33f0e4",
   "metadata": {},
   "outputs": [
    {
     "name": "stdout",
     "output_type": "stream",
     "text": [
      "P(|0, 2>) =  0.006123830455131159\n",
      "P(|1, 1>) =  0.05971765105003921\n",
      "P(|2, 0>) =  0.9341585184948159\n"
     ]
    }
   ],
   "source": [
    "state = results.state\n",
    "print(\"P(|0, 2>) = \", state.fock_prob([0, 2]))\n",
    "print(\"P(|1, 1>) = \", state.fock_prob([1, 1]))\n",
    "print(\"P(|2, 0>) = \", state.fock_prob([2, 0]))\n"
   ]
  },
  {
   "cell_type": "code",
   "execution_count": 7,
   "id": "d57d43fc-e4ac-4cc9-a661-0c917810b489",
   "metadata": {},
   "outputs": [
    {
     "name": "stdout",
     "output_type": "stream",
     "text": [
      "0.9999999999999862\n"
     ]
    }
   ],
   "source": [
    "result = [state.fock_prob([0, 2]), state.fock_prob([1, 1]), state.fock_prob([2, 0])]\n",
    "print(np.sum(result))"
   ]
  },
  {
   "cell_type": "code",
   "execution_count": 8,
   "id": "22ca362e-839a-4eef-affa-f055332e2180",
   "metadata": {},
   "outputs": [
    {
     "name": "stdout",
     "output_type": "stream",
     "text": [
      "[0.3949285  0.24758968 0.35748182]\n"
     ]
    }
   ],
   "source": [
    "from scipy.linalg import expm\n",
    "\n",
    "H = J*np.sqrt(2)*np.array([[0,1,0],[1,0,1],[0,1,0]]) + U*np.diag([1,0,1])\n",
    "init_state = np.array([0,0,1])\n",
    "\n",
    "theoretical_result = np.abs(np.dot(expm(-1j*t*H), init_state))**2\n",
    "print(theoretical_result)"
   ]
  },
  {
   "cell_type": "code",
   "execution_count": 9,
   "id": "3795baaa-7d71-4ff3-a6ac-874b1bd27c7b",
   "metadata": {},
   "outputs": [
    {
     "name": "stdout",
     "output_type": "stream",
     "text": [
      "False\n"
     ]
    }
   ],
   "source": [
    "print(np.all(np.abs(theoretical_result - result) < 1e-2))\n"
   ]
  },
  {
   "cell_type": "code",
   "execution_count": 10,
   "id": "5742df79-75b0-491e-bab2-d82bc54ee6e5",
   "metadata": {},
   "outputs": [
    {
     "name": "stdout",
     "output_type": "stream",
     "text": [
      "Execution time: 9.38537883758545 seconds\n"
     ]
    }
   ],
   "source": [
    "# get the end time\n",
    "et = time.time()\n",
    "\n",
    "# get the execution time\n",
    "elapsed_time = et - st\n",
    "print('Execution time:', elapsed_time, 'seconds')"
   ]
  },
  {
   "cell_type": "code",
   "execution_count": 11,
   "id": "584384db-611c-4b51-9e51-d5d5bcaa13d9",
   "metadata": {},
   "outputs": [
    {
     "name": "stdout",
     "output_type": "stream",
     "text": [
      "0.2053677945343228\n"
     ]
    }
   ],
   "source": [
    "fidelity = math.sqrt(results.state.fidelity_coherent([0.7+1.2j, 0.7+1.2j]))\n",
    "print(fidelity)"
   ]
  }
 ],
 "metadata": {
  "kernelspec": {
   "display_name": "PennyLane",
   "language": "python",
   "name": "pennylane"
  },
  "language_info": {
   "codemirror_mode": {
    "name": "ipython",
    "version": 3
   },
   "file_extension": ".py",
   "mimetype": "text/x-python",
   "name": "python",
   "nbconvert_exporter": "python",
   "pygments_lexer": "ipython3",
   "version": "3.9.13"
  }
 },
 "nbformat": 4,
 "nbformat_minor": 5
}
