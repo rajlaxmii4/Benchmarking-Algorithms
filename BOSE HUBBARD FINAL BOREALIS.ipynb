{
 "cells": [
  {
   "cell_type": "code",
   "execution_count": 1,
   "id": "070a5c74-83da-42f2-85ab-8b130b98ff42",
   "metadata": {},
   "outputs": [],
   "source": [
    "import time\n",
    "\n",
    "# get the start time\n",
    "st = time.time()"
   ]
  },
  {
   "cell_type": "code",
   "execution_count": 2,
   "id": "58ae31b4-13a4-419c-b031-288009852714",
   "metadata": {},
   "outputs": [],
   "source": [
    "# main program\n",
    "# BH Simulation\n",
    "import strawberryfields as sf\n",
    "import numpy as np\n",
    "import math\n",
    "\n",
    "eng = sf.RemoteEngine(\"borealis\")\n",
    "device = eng.device"
   ]
  },
  {
   "cell_type": "code",
   "execution_count": 3,
   "id": "e7c5275c-0aba-4208-9ea4-787388dd0359",
   "metadata": {},
   "outputs": [
    {
     "data": {
      "text/plain": [
       "{'finished_at': '2022-08-25T17:42:20.550132+00:00',\n",
       " 'target': 'borealis',\n",
       " 'loop_phases': [-1.705, 1.814, 0.382],\n",
       " 'schmidt_number': 1.157,\n",
       " 'common_efficiency': 0.434,\n",
       " 'loop_efficiencies': [0.892, 0.893, 0.833],\n",
       " 'squeezing_parameters_mean': {'low': 0.637, 'high': 1.114, 'medium': 0.935},\n",
       " 'relative_channel_efficiencies': [0.953,\n",
       "  0.992,\n",
       "  0.965,\n",
       "  0.957,\n",
       "  0.951,\n",
       "  0.891,\n",
       "  0.912,\n",
       "  0.982,\n",
       "  0.975,\n",
       "  1.0,\n",
       "  0.906,\n",
       "  0.938,\n",
       "  0.928,\n",
       "  0.91,\n",
       "  0.96,\n",
       "  0.905]}"
      ]
     },
     "execution_count": 3,
     "metadata": {},
     "output_type": "execute_result"
    }
   ],
   "source": [
    "device.certificate"
   ]
  },
  {
   "cell_type": "code",
   "execution_count": 4,
   "id": "029e50e9-4ca8-4725-b8fb-dc31a9e0866a",
   "metadata": {},
   "outputs": [
    {
     "name": "stderr",
     "output_type": "stream",
     "text": [
      "WARNING:strawberryfields.tdm.utils:126/259 arguments of phase gate 1 have been shifted by pi in order to be compatible with the phase modulators.\n",
      "WARNING:strawberryfields.tdm.utils:133/259 arguments of phase gate 2 have been shifted by pi in order to be compatible with the phase modulators.\n"
     ]
    }
   ],
   "source": [
    "from strawberryfields.tdm import borealis_gbs, full_compile, get_mode_indices\n",
    "\n",
    "gate_args_list = borealis_gbs(device, modes=216, squeezing=\"high\")"
   ]
  },
  {
   "cell_type": "code",
   "execution_count": 5,
   "id": "2f39d62a-d870-40ec-a729-c0a17f055a46",
   "metadata": {},
   "outputs": [],
   "source": [
    "modes = 216\n",
    "\n",
    "# squeezing-gate parameters\n",
    "r = [1.234] * modes"
   ]
  },
  {
   "cell_type": "code",
   "execution_count": 6,
   "id": "61567432-8d77-4a9d-a066-c82653402460",
   "metadata": {},
   "outputs": [],
   "source": [
    "import numpy as np\n",
    "\n",
    "# set the random seed\n",
    "np.random.seed(42)\n",
    "\n",
    "import strawberryfields as sf\n",
    "from strawberryfields.ops import *\n",
    "\n",
    "ham_simulation = sf.Program(2)\n",
    "\n",
    "# set the Hamiltonian parameters\n",
    "J = 2        # hopping transition\n",
    "U = 4       # on-site interaction\n",
    "k = 100        # Lie product decomposition terms\n",
    "t = 0.5     # timestep\n",
    "theta = -J*t/k\n",
    "r = -U*t/(2*k)\n",
    "\n",
    "with ham_simulation.context as q:\n",
    "    # prepare the initial state\n",
    "    Fock(2) | q[0]\n",
    "\n",
    "    # Two node tight-binding\n",
    "    # Hamiltonian simulation\n",
    "\n",
    "    for i in range(k):\n",
    "        BSgate(theta, np.pi/4) | (q[0], q[1])\n",
    "        Kgate(r)  | q[0]\n",
    "        Rgate(-r) | q[1]\n",
    "        Kgate(r)  | q[0]\n",
    "        Rgate(-r) | q[1]"
   ]
  },
  {
   "cell_type": "code",
   "execution_count": 7,
   "id": "69f6cf0a-9f6c-4b3b-86f0-8b4b782543ce",
   "metadata": {},
   "outputs": [],
   "source": [
    "eng = sf.Engine(backend=\"fock\", backend_options={\"cutoff_dim\": 5})\n"
   ]
  },
  {
   "cell_type": "code",
   "execution_count": 8,
   "id": "c51d61f1-0459-4b92-8dc1-0f2195666e3b",
   "metadata": {},
   "outputs": [],
   "source": [
    "results = eng.run(ham_simulation)\n"
   ]
  },
  {
   "cell_type": "code",
   "execution_count": 9,
   "id": "4ac91ba3-8515-45a7-b94e-ae4cb745b118",
   "metadata": {},
   "outputs": [],
   "source": [
    "# wait for 5 seconds\n",
    "time.sleep(5)"
   ]
  },
  {
   "cell_type": "code",
   "execution_count": 10,
   "id": "30719777-7e26-4d18-a310-ae0954d7624b",
   "metadata": {},
   "outputs": [
    {
     "name": "stdout",
     "output_type": "stream",
     "text": [
      "P(|0, 2>) =  0.006123830455131159\n",
      "P(|1, 1>) =  0.05971765105003921\n",
      "P(|2, 0>) =  0.9341585184948159\n"
     ]
    }
   ],
   "source": [
    "state = results.state\n",
    "print(\"P(|0, 2>) = \", state.fock_prob([0, 2]))\n",
    "print(\"P(|1, 1>) = \", state.fock_prob([1, 1]))\n",
    "print(\"P(|2, 0>) = \", state.fock_prob([2, 0]))"
   ]
  },
  {
   "cell_type": "code",
   "execution_count": 11,
   "id": "f7ec6f8a-029e-4c4b-95ca-548b23df3182",
   "metadata": {},
   "outputs": [
    {
     "name": "stdout",
     "output_type": "stream",
     "text": [
      "0.9999999999999862\n"
     ]
    }
   ],
   "source": [
    "result = [state.fock_prob([0, 2]), state.fock_prob([1, 1]), state.fock_prob([2, 0])]\n",
    "print(np.sum(result))"
   ]
  },
  {
   "cell_type": "code",
   "execution_count": 12,
   "id": "7667d53f-8112-4c0b-9a86-b4bcbf439af1",
   "metadata": {},
   "outputs": [
    {
     "name": "stdout",
     "output_type": "stream",
     "text": [
      "[0.3949285  0.24758968 0.35748182]\n"
     ]
    }
   ],
   "source": [
    "from scipy.linalg import expm\n",
    "\n",
    "H = J*np.sqrt(2)*np.array([[0,1,0],[1,0,1],[0,1,0]]) + U*np.diag([1,0,1])\n",
    "init_state = np.array([0,0,1])\n",
    "\n",
    "theoretical_result = np.abs(np.dot(expm(-1j*t*H), init_state))**2\n",
    "print(theoretical_result)\n"
   ]
  },
  {
   "cell_type": "code",
   "execution_count": 13,
   "id": "ced0020a-025e-4ce8-b382-b9aa0c532c64",
   "metadata": {},
   "outputs": [
    {
     "name": "stdout",
     "output_type": "stream",
     "text": [
      "False\n"
     ]
    }
   ],
   "source": [
    "print(np.all(np.abs(theoretical_result - result) < 1e-2))"
   ]
  },
  {
   "cell_type": "code",
   "execution_count": 14,
   "id": "9f077f57-3686-42a7-a55e-f637e7756ae3",
   "metadata": {},
   "outputs": [
    {
     "name": "stdout",
     "output_type": "stream",
     "text": [
      "Execution time: 10.019969701766968 seconds\n"
     ]
    }
   ],
   "source": [
    "# get the end time\n",
    "et = time.time()\n",
    "\n",
    "# get the execution time\n",
    "elapsed_time = et - st\n",
    "print('Execution time:', elapsed_time, 'seconds')"
   ]
  },
  {
   "cell_type": "code",
   "execution_count": 15,
   "id": "91847095-a7ae-4a54-83e2-582f758f0073",
   "metadata": {},
   "outputs": [
    {
     "name": "stdout",
     "output_type": "stream",
     "text": [
      "0.2053677945343228\n"
     ]
    }
   ],
   "source": [
    "fidelity = math.sqrt(results.state.fidelity_coherent([0.7+1.2j, 0.7+1.2j]))\n",
    "print(fidelity)"
   ]
  },
  {
   "cell_type": "code",
   "execution_count": null,
   "id": "c3ab7b24-fca0-41ec-97f4-4a2234821bdd",
   "metadata": {},
   "outputs": [],
   "source": []
  },
  {
   "cell_type": "code",
   "execution_count": null,
   "id": "ac1218d9-2140-4936-9ffb-386e7cf17fff",
   "metadata": {},
   "outputs": [],
   "source": []
  },
  {
   "cell_type": "code",
   "execution_count": null,
   "id": "8714fbbe-4742-4d34-9c2c-79ef39131371",
   "metadata": {},
   "outputs": [],
   "source": []
  },
  {
   "cell_type": "code",
   "execution_count": null,
   "id": "bf16bbcc-41f3-4500-9097-7e5be8f115a2",
   "metadata": {},
   "outputs": [],
   "source": []
  },
  {
   "cell_type": "code",
   "execution_count": null,
   "id": "36903d63-d0fa-428a-a970-938255e20ddb",
   "metadata": {},
   "outputs": [],
   "source": []
  }
 ],
 "metadata": {
  "kernelspec": {
   "display_name": "PennyLane",
   "language": "python",
   "name": "pennylane"
  },
  "language_info": {
   "codemirror_mode": {
    "name": "ipython",
    "version": 3
   },
   "file_extension": ".py",
   "mimetype": "text/x-python",
   "name": "python",
   "nbconvert_exporter": "python",
   "pygments_lexer": "ipython3",
   "version": "3.9.13"
  }
 },
 "nbformat": 4,
 "nbformat_minor": 5
}
